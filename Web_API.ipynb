{
  "nbformat": 4,
  "nbformat_minor": 0,
  "metadata": {
    "colab": {
      "provenance": [],
      "authorship_tag": "ABX9TyNZizznsbFeYzovxg3gYPhQ",
      "include_colab_link": true
    },
    "kernelspec": {
      "name": "python3",
      "display_name": "Python 3"
    },
    "language_info": {
      "name": "python"
    }
  },
  "cells": [
    {
      "cell_type": "markdown",
      "metadata": {
        "id": "view-in-github",
        "colab_type": "text"
      },
      "source": [
        "<a href=\"https://colab.research.google.com/github/Keerthivas-M/pw_skills/blob/main/Web_API.ipynb\" target=\"_parent\"><img src=\"https://colab.research.google.com/assets/colab-badge.svg\" alt=\"Open In Colab\"/></a>"
      ]
    },
    {
      "cell_type": "markdown",
      "source": [
        "Q1. What is an API? Give an example, where an API is used in real life.\n",
        "\n",
        "APIs (Application Programming Interface) are mechanisms that enable two software components to communicate with each other using a set of definitions and protocols.\n",
        "\n",
        "Eg. YouTube API allows us to display videos on a web page."
      ],
      "metadata": {
        "id": "0W-MGoohy6a8"
      }
    },
    {
      "cell_type": "markdown",
      "source": [
        "Q2. Give advantages and disadvantages of using API.\n",
        "\n",
        "Advantages:\n",
        "\n",
        "Automation - Workflows can be easily updated to become faster and more productive. \n",
        "\n",
        "Developer Efficiency - API allows to resue the the code to be more productive for repititive processes. \n",
        "\n",
        "Versality - Able to integrate multiple tools.\n",
        "\n",
        "Disadvantages:\n",
        "\n",
        "Poor integration will make the API vulnerable to cyber attacks."
      ],
      "metadata": {
        "id": "whfxHkzzzfqO"
      }
    },
    {
      "cell_type": "markdown",
      "source": [
        "Q3. What is a Web API? Differentiate between API and Web API.\n",
        "\n",
        "The only difference between API and Web API is that the later facilitates interaction between two machines over a network. Most preferable protocol for web API is HTTP. Web API use REST whereas API use SOAP Architecture. "
      ],
      "metadata": {
        "id": "ud-n_Awt3HFm"
      }
    },
    {
      "cell_type": "markdown",
      "source": [
        "Q4. Explain REST and SOAP Architecture. Mention shortcomings of SOAP.\n",
        "\n",
        "Representational state transfer (REST) is a set of architectural principles. Simple object access protocol (SOAP) is an official protocol maintained by the World Wide Web Consortium (W3C). The main difference is that SOAP is a protocol while REST is not. Request for data is usually done through HTTP in REST."
      ],
      "metadata": {
        "id": "Ntg4Yl1K4mLb"
      }
    },
    {
      "cell_type": "markdown",
      "source": [
        "Q5. Differentiate between REST and SOAP.\n",
        "\n",
        "REST is a set of architectural principles whereas SOAP is a official protocol maintained by the World Web Consortium. Because of it is a protocol, SOAP has built-in rules that increase its complexity and overhead, which lead to longer page load times. REST is lightweight and fast. "
      ],
      "metadata": {
        "id": "hH18F9Kf5chX"
      }
    }
  ]
}