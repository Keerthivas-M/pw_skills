{
  "nbformat": 4,
  "nbformat_minor": 0,
  "metadata": {
    "colab": {
      "provenance": [],
      "authorship_tag": "ABX9TyMyugKVHbUuz59L/LqsAmCc",
      "include_colab_link": true
    },
    "kernelspec": {
      "name": "python3",
      "display_name": "Python 3"
    },
    "language_info": {
      "name": "python"
    }
  },
  "cells": [
    {
      "cell_type": "markdown",
      "metadata": {
        "id": "view-in-github",
        "colab_type": "text"
      },
      "source": [
        "<a href=\"https://colab.research.google.com/github/Keerthivas-M/pw_skills/blob/main/OOPs_task_9feb2023.ipynb\" target=\"_parent\"><img src=\"https://colab.research.google.com/assets/colab-badge.svg\" alt=\"Open In Colab\"/></a>"
      ]
    },
    {
      "cell_type": "markdown",
      "source": [
        "1. Create a vehicle class with an init method having instance variables as name_of_vehicle, max_speed\n",
        "and average_of_vehicle."
      ],
      "metadata": {
        "id": "DxN9t_PzKO6Q"
      }
    },
    {
      "cell_type": "code",
      "execution_count": 3,
      "metadata": {
        "id": "Q7-9DsJeKCng"
      },
      "outputs": [],
      "source": [
        "class vehicle:\n",
        "  def __init__(self, name_of_vehicle, max_speed, average_of_vehicle):\n",
        "    self.name_of_vehicle = name_of_vehicle\n",
        "    self.max_speed = max_speed\n",
        "    self.average_of_vehicle = average_of_vehicle "
      ]
    },
    {
      "cell_type": "markdown",
      "source": [
        "2. Create a child class car from the vehicle class created in Que 1, which will inherit the vehicle class.\n",
        "Create a method named seating_capacity which takes capacity as an argument and returns the name of\n",
        "the vehicle and its seating capacity."
      ],
      "metadata": {
        "id": "yAEq_gRZK4-s"
      }
    },
    {
      "cell_type": "code",
      "source": [
        "class child(vehicle):\n",
        "  def seating_capacity(self, capacity):\n",
        "    return self.name_of_vehicle, capacity"
      ],
      "metadata": {
        "id": "D027iTIqKy8s"
      },
      "execution_count": 4,
      "outputs": []
    },
    {
      "cell_type": "markdown",
      "source": [
        "3. What is multiple inheritance? Write a python code to demonstrate multiple inheritance."
      ],
      "metadata": {
        "id": "yVXhrKBLMMSU"
      }
    },
    {
      "cell_type": "markdown",
      "source": [
        "-  Multiple inheritance is a feature in class which can inherit features or methods from multiple classes."
      ],
      "metadata": {
        "id": "xwl29lrzMRIj"
      }
    },
    {
      "cell_type": "code",
      "source": [
        "class cls1:\n",
        "  def cls1_fn(self):\n",
        "    print(\"this is the first class function\")\n",
        "\n",
        "class cls2(cls1):\n",
        "  def cls2_fn(self):\n",
        "    print(\"this is the second class function\")\n",
        "\n",
        "class cls3(cls2):\n",
        "  def cls3_fn(self):\n",
        "    print(\"this is the third class function\")"
      ],
      "metadata": {
        "id": "3DhIGXv3MPCn"
      },
      "execution_count": 5,
      "outputs": []
    },
    {
      "cell_type": "code",
      "source": [
        "obj = cls3()"
      ],
      "metadata": {
        "id": "nsLLngYPNkGd"
      },
      "execution_count": 6,
      "outputs": []
    },
    {
      "cell_type": "code",
      "source": [
        "print(obj.cls1_fn())\n",
        "print(obj.cls2_fn())\n",
        "print(obj.cls3_fn())"
      ],
      "metadata": {
        "colab": {
          "base_uri": "https://localhost:8080/"
        },
        "id": "lBB01EjHOCdH",
        "outputId": "8f896ef9-555f-4e03-b8b8-1be4ec55549b"
      },
      "execution_count": 8,
      "outputs": [
        {
          "output_type": "stream",
          "name": "stdout",
          "text": [
            "this is the first class function\n",
            "None\n",
            "this is the second class function\n",
            "None\n",
            "this is the third class function\n",
            "None\n"
          ]
        }
      ]
    },
    {
      "cell_type": "markdown",
      "source": [
        "4. What are getter and setter in python? Create a class and create a getter and a setter method in this\n",
        "class."
      ],
      "metadata": {
        "id": "lV58hFy0ORwF"
      }
    },
    {
      "cell_type": "markdown",
      "source": [
        "- Main purpose of using getter and setter in OOPs is to ensure data encapsulated.\n",
        "- Getters & setters used to add validation logic around getting and setting a value.\n",
        "- To avoid direct access of a class field i.e. private variables cannot be accessed directly or modified by external user."
      ],
      "metadata": {
        "id": "lytR3_CVO7BP"
      }
    },
    {
      "cell_type": "code",
      "source": [
        "class online_store:\n",
        "  def __init__(self, product_name, price, quantity):\n",
        "    self.__product_name = product_name\n",
        "    self.__price = price\n",
        "    self.__quantity = quantity\n",
        "  \n",
        "  def purchase(self, no_items):\n",
        "    if self.__quantity > 0:\n",
        "      self.__quantity = self.__quantity if no_items == 0 and no_items <= self.__quantity\\\n",
        "                      else self.__quantity - no_items\n",
        "  \n",
        "  def get_available(self):\n",
        "    return self.__quantity\n",
        "\n",
        "  def set_return(self, no_item_return):\n",
        "    self.__quantity += no_item_return\n"
      ],
      "metadata": {
        "id": "4HLpCiALOWez"
      },
      "execution_count": 29,
      "outputs": []
    },
    {
      "cell_type": "code",
      "source": [
        "samsung_obj = online_store('samsung_mobile', 45000, 40)\n",
        "mi_obj = online_store('mi_mobile', 25000, 60)\n",
        "realme_obj = online_store('realme_mobile', 26000, 50)"
      ],
      "metadata": {
        "id": "l8c8ImnfTgsO"
      },
      "execution_count": 30,
      "outputs": []
    },
    {
      "cell_type": "code",
      "source": [
        "#get stock\n",
        "print('The available quantity of samsung mobile is {}'.format(samsung_obj.get_available()))"
      ],
      "metadata": {
        "colab": {
          "base_uri": "https://localhost:8080/"
        },
        "id": "7TygrK0_VyoN",
        "outputId": "dc42f7af-9a22-4378-df2a-0b1b06cbed29"
      },
      "execution_count": 31,
      "outputs": [
        {
          "output_type": "stream",
          "name": "stdout",
          "text": [
            "The available quantity of samsung mobile is 40\n"
          ]
        }
      ]
    },
    {
      "cell_type": "code",
      "source": [
        "#make purchase\n",
        "samsung_obj.purchase(3)\n",
        "\n",
        "#get present stock\n",
        "print('The available quantity of samsung mobile is {}'.format(samsung_obj.get_available()))"
      ],
      "metadata": {
        "colab": {
          "base_uri": "https://localhost:8080/"
        },
        "id": "zP1z_smSdUiA",
        "outputId": "33d3e08f-0230-40b1-ae0d-ee0d9514ad86"
      },
      "execution_count": 32,
      "outputs": [
        {
          "output_type": "stream",
          "name": "stdout",
          "text": [
            "The available quantity of samsung mobile is 37\n"
          ]
        }
      ]
    },
    {
      "cell_type": "code",
      "source": [
        "#make a return\n",
        "samsung_obj.set_return(1)\n",
        "\n",
        "#get present stock\n",
        "print('The available quantity of samsung mobile is {}'.format(samsung_obj.get_available()))"
      ],
      "metadata": {
        "colab": {
          "base_uri": "https://localhost:8080/"
        },
        "id": "IFxaWI0Ld6gB",
        "outputId": "9b080ec7-9785-4447-ca2b-c75d4d54a2bb"
      },
      "execution_count": 33,
      "outputs": [
        {
          "output_type": "stream",
          "name": "stdout",
          "text": [
            "The available quantity of samsung mobile is 38\n"
          ]
        }
      ]
    }
  ]
}