{
 "cells": [
  {
   "cell_type": "markdown",
   "id": "287694d8-e670-4270-bf5d-b83aaf5b275d",
   "metadata": {},
   "source": [
    "1. Explain Class and Object with respect to Object-Oriented Programming. Give a suitable example.\n",
    "\n",
    "- Classes are user-defined data types that act as the blueprint for individual objects, attributes and methods.\n",
    "- Objects are instances of a class created with specifically defined data. Objects can correspond to real-world objects or an abstract entity."
   ]
  },
  {
   "cell_type": "code",
   "execution_count": 1,
   "id": "4f749bb3-a510-4b39-9c33-d275847c38d9",
   "metadata": {},
   "outputs": [],
   "source": [
    "class arithmetics:\n",
    "    \n",
    "    def __init__(self, lst):\n",
    "        from functools import reduce\n",
    "        self.sum = sum(lst)\n",
    "        self.mul = reduce(lambda a, b: a*b , lst)\n",
    "        "
   ]
  },
  {
   "cell_type": "code",
   "execution_count": 5,
   "id": "3d7d073d-9c9a-4333-8cc6-156d1d443e60",
   "metadata": {},
   "outputs": [
    {
     "name": "stdout",
     "output_type": "stream",
     "text": [
      "10\n",
      "24\n"
     ]
    }
   ],
   "source": [
    "some_list = arithmetics([1,2,3,4])\n",
    "print(some_list.sum)\n",
    "print(some_list.mul)"
   ]
  },
  {
   "cell_type": "markdown",
   "id": "de119a54-bdd8-4bd9-a388-01f7ac9e1ee8",
   "metadata": {},
   "source": [
    "2. Name the four pillars of OOPs.\n",
    "\n",
    "- Inheritance \n",
    "- Polymorphism \n",
    "- Encapsulation\n",
    "- Abstraction"
   ]
  },
  {
   "cell_type": "markdown",
   "id": "11e947ae-b549-4a11-bb83-41e36e705bbd",
   "metadata": {},
   "source": [
    "3. Explain why the __init__() function is used. Give a suitable example.\n",
    "\n",
    "- `__init__()` function as a constructor. A constructor is a special method that the program calls upon an object’s creation. \n",
    "    The constructor is used in the class to initialize data members to the object."
   ]
  },
  {
   "cell_type": "markdown",
   "id": "9335f997-8d4e-47dc-9c0e-247fe5e0cf4a",
   "metadata": {},
   "source": [
    "4. Why self is used in OOPs?\n",
    "\n",
    "- The self variable is used to represent the instance of the class which is often used in object-oriented programming. \n",
    "    It works as a reference to the object. Python uses the self parameter to refer to instance attributes and methods of the class."
   ]
  },
  {
   "cell_type": "markdown",
   "id": "c09298f4-8bc5-47b4-9e33-bac04c130bd8",
   "metadata": {},
   "source": [
    "5. What is inheritance? Give an example for each type of inheritance.\n",
    "\n",
    "- Inheritance allows us to define a class that inherits all the methods and properties from another class."
   ]
  }
 ],
 "metadata": {
  "kernelspec": {
   "display_name": "Python 3 (ipykernel)",
   "language": "python",
   "name": "python3"
  },
  "language_info": {
   "codemirror_mode": {
    "name": "ipython",
    "version": 3
   },
   "file_extension": ".py",
   "mimetype": "text/x-python",
   "name": "python",
   "nbconvert_exporter": "python",
   "pygments_lexer": "ipython3",
   "version": "3.10.8"
  }
 },
 "nbformat": 4,
 "nbformat_minor": 5
}
