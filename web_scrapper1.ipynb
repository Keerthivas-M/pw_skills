{
  "nbformat": 4,
  "nbformat_minor": 0,
  "metadata": {
    "colab": {
      "provenance": [],
      "authorship_tag": "ABX9TyND/xohwaVEbHMmVSuiwnn2",
      "include_colab_link": true
    },
    "kernelspec": {
      "name": "python3",
      "display_name": "Python 3"
    },
    "language_info": {
      "name": "python"
    }
  },
  "cells": [
    {
      "cell_type": "markdown",
      "metadata": {
        "id": "view-in-github",
        "colab_type": "text"
      },
      "source": [
        "<a href=\"https://colab.research.google.com/github/Keerthivas-M/pw_skills/blob/main/web_scrapper1.ipynb\" target=\"_parent\"><img src=\"https://colab.research.google.com/assets/colab-badge.svg\" alt=\"Open In Colab\"/></a>"
      ]
    },
    {
      "cell_type": "markdown",
      "source": [
        "Q1. What is Web Scraping? Why is it Used? Give three areas where Web Scraping is used to get data.\n",
        "\n",
        "Web scraping is the process of using application to extract content and data from a website.\n",
        "Web scraping can help companies gather the correct contact information from their target market—including names, job titles, email addresses, and cellphone numbers.\n",
        "- Monitoring e-commerce prices.\n",
        "- Finding opportunities for investment.\n",
        "- Analyzing social media web data."
      ],
      "metadata": {
        "id": "AOrqWsdlbpPJ"
      }
    },
    {
      "cell_type": "markdown",
      "source": [
        "Q2. What are the different methods used for Web Scraping?\n",
        "\n",
        "- HTML Parsing\n",
        "- DOM Parsing\n",
        "- Vertical Aggregation\n",
        "- Google Sheets"
      ],
      "metadata": {
        "id": "wpiRoeTzgDo3"
      }
    },
    {
      "cell_type": "markdown",
      "source": [
        "Q3. What is Beautiful Soup? Why is it used?\n",
        "\n",
        "Beautiful Soup is a Python package for parsing HTML and XML documents (including having malformed markup, i.e. non-closed tags, so named after tag soup). It creates a parse tree for parsed pages that can be used to extract data from HTML, which is useful for web scraping."
      ],
      "metadata": {
        "id": "1YNQ8UR7ge2y"
      }
    },
    {
      "cell_type": "markdown",
      "source": [
        "Q4. Why is flask used in this Web Scraping project?\n",
        "\n",
        "Flask is a lightweight framework to build websites. It is used to parse our collected data and display it as HTML in a new HTML file. The requests module allows us to send http requests to the website we want to scrape."
      ],
      "metadata": {
        "id": "gB91BiwNgqCW"
      }
    },
    {
      "cell_type": "markdown",
      "source": [
        "Q5. Write the names of AWS services used in this project. Also, explain the use of each service.\n",
        "\n",
        "Elastic Beanstalk is a service for deploying and scaling web applications and services. Upload your code and Elastic Beanstalk automatically handles the deployment—from capacity provisioning, load balancing, and auto scaling to application health monitoring.\n",
        "\n",
        "AWS CodePipeline is a continuous delivery service that enables you to model, visualize, and automate the steps required to release your software."
      ],
      "metadata": {
        "id": "oC5wNff-g3zi"
      }
    }
  ]
}