{
  "cells": [
    {
      "cell_type": "markdown",
      "metadata": {
        "id": "view-in-github",
        "colab_type": "text"
      },
      "source": [
        "<a href=\"https://colab.research.google.com/github/Keerthivas-M/pw_skills/blob/main/resources/class_method_eng.ipynb\" target=\"_parent\"><img src=\"https://colab.research.google.com/assets/colab-badge.svg\" alt=\"Open In Colab\"/></a>"
      ]
    },
    {
      "cell_type": "code",
      "execution_count": null,
      "id": "fce910c6-629d-411f-abad-ef2393ac287c",
      "metadata": {
        "id": "fce910c6-629d-411f-abad-ef2393ac287c"
      },
      "outputs": [],
      "source": [
        "class pwskills:\n",
        "    def __init__(self, name , email):\n",
        "        \n",
        "        self.name = name\n",
        "        self.email = email\n",
        "    \n",
        "    def student_details(self):\n",
        "        print(self.name , self.email)"
      ]
    },
    {
      "cell_type": "code",
      "execution_count": null,
      "id": "e08e53a3-49cd-4ef4-a9b8-8e2e78f4b184",
      "metadata": {
        "id": "e08e53a3-49cd-4ef4-a9b8-8e2e78f4b184"
      },
      "outputs": [],
      "source": [
        "pw = pwskills(\"sudh\" , \"sudh@gmail.com\")"
      ]
    },
    {
      "cell_type": "code",
      "execution_count": null,
      "id": "1aac620d-600c-44ff-88ad-0309df0f147b",
      "metadata": {
        "id": "1aac620d-600c-44ff-88ad-0309df0f147b",
        "outputId": "445465d8-e7bc-4786-af7e-51bc004f3843"
      },
      "outputs": [
        {
          "data": {
            "text/plain": [
              "'sudh'"
            ]
          },
          "execution_count": 4,
          "metadata": {},
          "output_type": "execute_result"
        }
      ],
      "source": [
        "pw.name"
      ]
    },
    {
      "cell_type": "code",
      "execution_count": null,
      "id": "529b9e7d-1a97-430f-944f-2ee697d5d0c5",
      "metadata": {
        "id": "529b9e7d-1a97-430f-944f-2ee697d5d0c5",
        "outputId": "95f033e2-8fe1-4bd8-da4d-6628f7187081"
      },
      "outputs": [
        {
          "data": {
            "text/plain": [
              "'sudh@gmail.com'"
            ]
          },
          "execution_count": 5,
          "metadata": {},
          "output_type": "execute_result"
        }
      ],
      "source": [
        "pw.email"
      ]
    },
    {
      "cell_type": "code",
      "execution_count": null,
      "id": "6b5ae164-3611-44b4-94de-d8c7c9fb716e",
      "metadata": {
        "id": "6b5ae164-3611-44b4-94de-d8c7c9fb716e",
        "outputId": "b9f740fe-cb2f-4cb7-af0c-52c8c2f69df6"
      },
      "outputs": [
        {
          "name": "stdout",
          "output_type": "stream",
          "text": [
            "sudh sudh@gmail.com\n"
          ]
        }
      ],
      "source": [
        "pw.student_details()"
      ]
    },
    {
      "cell_type": "code",
      "execution_count": null,
      "id": "84d77df2-77d5-4764-9f64-4592fd238465",
      "metadata": {
        "id": "84d77df2-77d5-4764-9f64-4592fd238465"
      },
      "outputs": [],
      "source": [
        "class pwskills1:\n",
        "    def __init__(self, name , email):\n",
        "        \n",
        "        self.name = name\n",
        "        self.email = email\n",
        "    \n",
        "    @classmethod\n",
        "    def details(cls , name1 , email1):\n",
        "        return cls(name1 , email1)\n",
        "    \n",
        "    def student_details(self):\n",
        "        print(self.name , self.email)"
      ]
    },
    {
      "cell_type": "code",
      "execution_count": null,
      "id": "e2be452a-5468-46f4-b52d-f1d2582f0848",
      "metadata": {
        "id": "e2be452a-5468-46f4-b52d-f1d2582f0848"
      },
      "outputs": [],
      "source": [
        "pw1 = pwskills1.details(\"mohan\" , \"mohan@gamil.com\")"
      ]
    },
    {
      "cell_type": "code",
      "execution_count": null,
      "id": "7a0d2dfb-ea71-4d23-a91e-ef83aa258b32",
      "metadata": {
        "id": "7a0d2dfb-ea71-4d23-a91e-ef83aa258b32",
        "outputId": "fcb6c2bc-b4ec-43c4-d005-b9e6eff21415"
      },
      "outputs": [
        {
          "data": {
            "text/plain": [
              "'mohan'"
            ]
          },
          "execution_count": 14,
          "metadata": {},
          "output_type": "execute_result"
        }
      ],
      "source": [
        "pw1.name"
      ]
    },
    {
      "cell_type": "code",
      "execution_count": null,
      "id": "43dc7559-f61f-4b25-a814-89d284a386af",
      "metadata": {
        "id": "43dc7559-f61f-4b25-a814-89d284a386af",
        "outputId": "280d6840-23a1-4bd0-cfc9-0d1a2d7e9a2e"
      },
      "outputs": [
        {
          "data": {
            "text/plain": [
              "'mohan@gamil.com'"
            ]
          },
          "execution_count": 15,
          "metadata": {},
          "output_type": "execute_result"
        }
      ],
      "source": [
        "pw1.email"
      ]
    },
    {
      "cell_type": "code",
      "execution_count": null,
      "id": "a68de874-8a18-4974-a888-d8d5cf059ca7",
      "metadata": {
        "id": "a68de874-8a18-4974-a888-d8d5cf059ca7",
        "outputId": "bb239ee7-371b-4b60-f256-e8a01b8bf7b3"
      },
      "outputs": [
        {
          "name": "stdout",
          "output_type": "stream",
          "text": [
            "mohan mohan@gamil.com\n"
          ]
        }
      ],
      "source": [
        "pw1.student_details()"
      ]
    },
    {
      "cell_type": "code",
      "execution_count": null,
      "id": "feace3fc-6cc7-4745-9a92-d500bd64ed3a",
      "metadata": {
        "id": "feace3fc-6cc7-4745-9a92-d500bd64ed3a"
      },
      "outputs": [],
      "source": [
        "class pwskills2:\n",
        "    \n",
        "    mobile_number = 9134534535\n",
        "    \n",
        "    def __init__(self, name , email):\n",
        "        \n",
        "        self.name = name\n",
        "        self.email = email\n",
        "    \n",
        "    @classmethod\n",
        "    def change_number(cls, mobile):\n",
        "        pwskills2.mobile_number = mobile\n",
        "    \n",
        "    @classmethod\n",
        "    def details(cls , name1 , email1):\n",
        "        return cls(name1 , email1)\n",
        "    \n",
        "    def student_details(self):\n",
        "        print(self.name , self.email,pwskills2.mobile_number)"
      ]
    },
    {
      "cell_type": "code",
      "execution_count": null,
      "id": "f04f3140-ccc3-4eb6-8de9-63a690425086",
      "metadata": {
        "id": "f04f3140-ccc3-4eb6-8de9-63a690425086"
      },
      "outputs": [],
      "source": [
        "pw2_obj = pwskills2(\"sohil\" , \"sohil@gmail.com\")"
      ]
    },
    {
      "cell_type": "code",
      "execution_count": null,
      "id": "082a3976-f45c-4af5-8708-29a0e52d9cd4",
      "metadata": {
        "id": "082a3976-f45c-4af5-8708-29a0e52d9cd4",
        "outputId": "ee2106f6-c442-42c6-aaf6-4d4b510c6a0e"
      },
      "outputs": [
        {
          "data": {
            "text/plain": [
              "<__main__.pwskills2 at 0x7f24a557b670>"
            ]
          },
          "execution_count": 30,
          "metadata": {},
          "output_type": "execute_result"
        }
      ],
      "source": [
        "pw2_obj.details(\"sudh\" , \"sudh@gmail.com\")"
      ]
    },
    {
      "cell_type": "code",
      "execution_count": null,
      "id": "26ac28f2-8341-411c-9a2f-71791911511d",
      "metadata": {
        "id": "26ac28f2-8341-411c-9a2f-71791911511d",
        "outputId": "953a33e1-ae86-4661-8acb-ea21c2bbf50a"
      },
      "outputs": [
        {
          "data": {
            "text/plain": [
              "'sohil'"
            ]
          },
          "execution_count": 31,
          "metadata": {},
          "output_type": "execute_result"
        }
      ],
      "source": [
        "pw2_obj.name"
      ]
    },
    {
      "cell_type": "code",
      "execution_count": null,
      "id": "6910edfa-3d5c-4c13-bbff-22f3e142a87c",
      "metadata": {
        "id": "6910edfa-3d5c-4c13-bbff-22f3e142a87c"
      },
      "outputs": [],
      "source": [
        "pw2_obj.change_number(534553534)"
      ]
    },
    {
      "cell_type": "code",
      "execution_count": null,
      "id": "c6b8dab3-b0e2-4dec-9a21-9d01432bb847",
      "metadata": {
        "id": "c6b8dab3-b0e2-4dec-9a21-9d01432bb847",
        "outputId": "ee90bb6c-f215-41be-b7fd-dc411ab7107a"
      },
      "outputs": [
        {
          "data": {
            "text/plain": [
              "534553534"
            ]
          },
          "execution_count": 33,
          "metadata": {},
          "output_type": "execute_result"
        }
      ],
      "source": [
        "pw2_obj.mobile_number"
      ]
    },
    {
      "cell_type": "code",
      "execution_count": null,
      "id": "83fc972b-21f4-4295-9559-679c3099e459",
      "metadata": {
        "id": "83fc972b-21f4-4295-9559-679c3099e459",
        "outputId": "9be15e9c-752b-4c1c-a882-9e26d144f5e9"
      },
      "outputs": [
        {
          "data": {
            "text/plain": [
              "9134534535"
            ]
          },
          "execution_count": 25,
          "metadata": {},
          "output_type": "execute_result"
        }
      ],
      "source": [
        "pwskills2.mobile_number"
      ]
    },
    {
      "cell_type": "code",
      "execution_count": null,
      "id": "be33a901-650b-486b-b413-2bc1136af73d",
      "metadata": {
        "id": "be33a901-650b-486b-b413-2bc1136af73d"
      },
      "outputs": [],
      "source": [
        "pwskills2.change_number(9233345344)"
      ]
    },
    {
      "cell_type": "code",
      "execution_count": null,
      "id": "94b99907-e2b5-4a1c-8e40-6d9ffe10ed28",
      "metadata": {
        "id": "94b99907-e2b5-4a1c-8e40-6d9ffe10ed28",
        "outputId": "d8e77f30-b231-4cdb-94b5-a74ba73867bf"
      },
      "outputs": [
        {
          "data": {
            "text/plain": [
              "9233345344"
            ]
          },
          "execution_count": 27,
          "metadata": {},
          "output_type": "execute_result"
        }
      ],
      "source": [
        "pwskills2.mobile_number"
      ]
    },
    {
      "cell_type": "code",
      "execution_count": null,
      "id": "ff4a5649-92a6-4963-b6d5-8a5b6e23af0a",
      "metadata": {
        "id": "ff4a5649-92a6-4963-b6d5-8a5b6e23af0a",
        "outputId": "b10df338-cefc-4a9f-d9d1-c25ca156182a"
      },
      "outputs": [
        {
          "data": {
            "text/plain": [
              "9134534535"
            ]
          },
          "execution_count": 18,
          "metadata": {},
          "output_type": "execute_result"
        }
      ],
      "source": [
        "pwskills2.mobile_number"
      ]
    },
    {
      "cell_type": "code",
      "execution_count": null,
      "id": "0714817d-c76c-49df-9f68-2e4bc5f47024",
      "metadata": {
        "id": "0714817d-c76c-49df-9f68-2e4bc5f47024"
      },
      "outputs": [],
      "source": [
        "pw2 = pwskills2.details(\"sohan\" , \"sohan@gmail.com\")"
      ]
    },
    {
      "cell_type": "code",
      "execution_count": null,
      "id": "f440a2ab-3021-4703-a5b7-3e0e9a366522",
      "metadata": {
        "id": "f440a2ab-3021-4703-a5b7-3e0e9a366522",
        "outputId": "944d7e2c-4381-494c-b7fb-04160d40f2ea"
      },
      "outputs": [
        {
          "name": "stdout",
          "output_type": "stream",
          "text": [
            "sohan sohan@gmail.com 9134534535\n"
          ]
        }
      ],
      "source": [
        "pw2.student_details()"
      ]
    },
    {
      "cell_type": "code",
      "execution_count": null,
      "id": "61eb5861-41e5-437a-9147-99d2ae8a4de7",
      "metadata": {
        "id": "61eb5861-41e5-437a-9147-99d2ae8a4de7"
      },
      "outputs": [],
      "source": [
        "pw2_obj = pwskills2(\"rohan\" , \"rohan@gmail.com\")"
      ]
    },
    {
      "cell_type": "code",
      "execution_count": null,
      "id": "ca77130f-1dea-40d2-9e38-f4dc30054e56",
      "metadata": {
        "id": "ca77130f-1dea-40d2-9e38-f4dc30054e56",
        "outputId": "794dae6a-78bd-420e-8460-2789d2203f46"
      },
      "outputs": [
        {
          "name": "stdout",
          "output_type": "stream",
          "text": [
            "rohan rohan@gmail.com 9134534535\n"
          ]
        }
      ],
      "source": [
        "pw2_obj.student_details()"
      ]
    },
    {
      "cell_type": "code",
      "execution_count": null,
      "id": "7602f385-122e-4a55-a659-98b2d2905893",
      "metadata": {
        "id": "7602f385-122e-4a55-a659-98b2d2905893"
      },
      "outputs": [],
      "source": [
        "class pwskills3:\n",
        "    \n",
        "    mobile_number = 9134534535\n",
        "    \n",
        "    def __init__(self, name , email):\n",
        "        \n",
        "        self.name = name\n",
        "        self.email = email\n",
        "    \n",
        "    @classmethod\n",
        "    def change_number(cls, mobile):\n",
        "        pwskills2.mobile_number = mobile\n",
        "    \n",
        "    @classmethod\n",
        "    def details(cls , name1 , email1):\n",
        "        return cls(name1 , email1)\n",
        "    \n",
        "    def student_details(self):\n",
        "        print(self.name , self.email,pwskills2.mobile_number)"
      ]
    },
    {
      "cell_type": "code",
      "execution_count": null,
      "id": "2b2bf255-aa6c-4628-9ad3-3db7fc6eddd2",
      "metadata": {
        "id": "2b2bf255-aa6c-4628-9ad3-3db7fc6eddd2"
      },
      "outputs": [],
      "source": [
        "def course_details(cls ,course_name ):\n",
        "    print(\"course details\" , course_name)"
      ]
    },
    {
      "cell_type": "code",
      "execution_count": null,
      "id": "d31b7e72-b966-42fb-891f-34e8092485c5",
      "metadata": {
        "id": "d31b7e72-b966-42fb-891f-34e8092485c5"
      },
      "outputs": [],
      "source": [
        "pwskills3.course_details = classmethod(course_details)"
      ]
    },
    {
      "cell_type": "code",
      "execution_count": null,
      "id": "1756cee2-89b1-4e5e-afa0-c760126d5e88",
      "metadata": {
        "id": "1756cee2-89b1-4e5e-afa0-c760126d5e88",
        "outputId": "027658c3-4cb4-45aa-b66d-1f483ca7604c"
      },
      "outputs": [
        {
          "name": "stdout",
          "output_type": "stream",
          "text": [
            "course details data science masters\n"
          ]
        }
      ],
      "source": [
        "pwskills3.course_details(\"data science masters\")"
      ]
    },
    {
      "cell_type": "code",
      "execution_count": null,
      "id": "f7923667-ab35-4a46-8be1-474a1745f180",
      "metadata": {
        "id": "f7923667-ab35-4a46-8be1-474a1745f180"
      },
      "outputs": [],
      "source": [
        "pw3 = pwskills3(\"sudh\" , \"sudh@gmail.com\")"
      ]
    },
    {
      "cell_type": "code",
      "execution_count": null,
      "id": "a9f7ee83-d2ca-429d-8d6a-8425ec565b50",
      "metadata": {
        "id": "a9f7ee83-d2ca-429d-8d6a-8425ec565b50",
        "outputId": "1ef89fb5-59af-48ee-c53d-30048ea837ba"
      },
      "outputs": [
        {
          "name": "stdout",
          "output_type": "stream",
          "text": [
            "course details web dev\n"
          ]
        }
      ],
      "source": [
        "pw3.course_details(\"web dev\")"
      ]
    },
    {
      "cell_type": "code",
      "execution_count": null,
      "id": "c53d7e2d-39fe-438c-8706-4e44c6489c6a",
      "metadata": {
        "id": "c53d7e2d-39fe-438c-8706-4e44c6489c6a"
      },
      "outputs": [],
      "source": [
        "class pwskills4:\n",
        "    \n",
        "    mobile_number = 9134534535\n",
        "    \n",
        "    def __init__(self, name , email):\n",
        "        \n",
        "        self.name = name\n",
        "        self.email = email\n",
        "    \n",
        "    @classmethod\n",
        "    def change_number(cls, mobile):\n",
        "        pwskills2.mobile_number = mobile\n",
        "    \n",
        "    @classmethod\n",
        "    def details(cls , name1 , email1):\n",
        "        return cls(name1 , email1)\n",
        "    \n",
        "    def student_details(self):\n",
        "        print(self.name , self.email,pwskills2.mobile_number)"
      ]
    },
    {
      "cell_type": "code",
      "execution_count": null,
      "id": "e3928652-ca7c-4acd-96c5-4bf926aa5ced",
      "metadata": {
        "id": "e3928652-ca7c-4acd-96c5-4bf926aa5ced"
      },
      "outputs": [],
      "source": [
        "del pwskills4.change_number"
      ]
    },
    {
      "cell_type": "code",
      "execution_count": null,
      "id": "58fedaf3-b311-45f2-a1d6-8b038fe195ca",
      "metadata": {
        "id": "58fedaf3-b311-45f2-a1d6-8b038fe195ca",
        "outputId": "7aeaaaa3-88ab-40c9-f64a-2de87b560942"
      },
      "outputs": [
        {
          "ename": "AttributeError",
          "evalue": "type object 'pwskills4' has no attribute 'change_number'",
          "output_type": "error",
          "traceback": [
            "\u001b[0;31m---------------------------------------------------------------------------\u001b[0m",
            "\u001b[0;31mAttributeError\u001b[0m                            Traceback (most recent call last)",
            "Cell \u001b[0;32mIn[42], line 1\u001b[0m\n\u001b[0;32m----> 1\u001b[0m \u001b[43mpwskills4\u001b[49m\u001b[38;5;241;43m.\u001b[39;49m\u001b[43mchange_number\u001b[49m(\u001b[38;5;241m2432535345\u001b[39m)\n",
            "\u001b[0;31mAttributeError\u001b[0m: type object 'pwskills4' has no attribute 'change_number'"
          ]
        }
      ],
      "source": [
        "pwskills4.change_number(2432535345)"
      ]
    },
    {
      "cell_type": "code",
      "execution_count": null,
      "id": "5a2401dd-a7cd-411d-bcd3-6953a3d4cd3c",
      "metadata": {
        "id": "5a2401dd-a7cd-411d-bcd3-6953a3d4cd3c"
      },
      "outputs": [],
      "source": [
        "delattr(pwskills4 , \"details\")"
      ]
    },
    {
      "cell_type": "code",
      "execution_count": null,
      "id": "b34c6800-ed8c-4b4d-8f6f-91ed21c2c327",
      "metadata": {
        "id": "b34c6800-ed8c-4b4d-8f6f-91ed21c2c327",
        "outputId": "64c9f902-6602-40be-a697-6ac0bb0c6e81"
      },
      "outputs": [
        {
          "data": {
            "text/plain": [
              "9134534535"
            ]
          },
          "execution_count": 44,
          "metadata": {},
          "output_type": "execute_result"
        }
      ],
      "source": [
        "pwskills4.mobile_number"
      ]
    },
    {
      "cell_type": "code",
      "execution_count": null,
      "id": "09ec00ae-4e1a-4ff9-91af-f192bcd10145",
      "metadata": {
        "id": "09ec00ae-4e1a-4ff9-91af-f192bcd10145"
      },
      "outputs": [],
      "source": [
        "delattr(pwskills4 , \"mobile_number\")"
      ]
    },
    {
      "cell_type": "code",
      "execution_count": null,
      "id": "5a561241-7631-4e1f-83af-78f766411037",
      "metadata": {
        "id": "5a561241-7631-4e1f-83af-78f766411037",
        "outputId": "dfd65b3e-9851-4d4f-b001-c11408062edb"
      },
      "outputs": [
        {
          "ename": "AttributeError",
          "evalue": "type object 'pwskills4' has no attribute 'mobile_number'",
          "output_type": "error",
          "traceback": [
            "\u001b[0;31m---------------------------------------------------------------------------\u001b[0m",
            "\u001b[0;31mAttributeError\u001b[0m                            Traceback (most recent call last)",
            "Cell \u001b[0;32mIn[46], line 1\u001b[0m\n\u001b[0;32m----> 1\u001b[0m \u001b[43mpwskills4\u001b[49m\u001b[38;5;241;43m.\u001b[39;49m\u001b[43mmobile_number\u001b[49m\n",
            "\u001b[0;31mAttributeError\u001b[0m: type object 'pwskills4' has no attribute 'mobile_number'"
          ]
        }
      ],
      "source": [
        "pwskills4.mobile_number"
      ]
    },
    {
      "cell_type": "code",
      "execution_count": null,
      "id": "314d4855-1ba5-43c2-bf21-d9d61353128d",
      "metadata": {
        "id": "314d4855-1ba5-43c2-bf21-d9d61353128d"
      },
      "outputs": [],
      "source": [
        "delattr(pwskills4,\"student_details\")"
      ]
    },
    {
      "cell_type": "code",
      "execution_count": null,
      "id": "a88256f5-e304-44dd-965b-3a36179a04bc",
      "metadata": {
        "id": "a88256f5-e304-44dd-965b-3a36179a04bc",
        "outputId": "21324392-78c5-475e-ae48-0b3e8fff5320"
      },
      "outputs": [
        {
          "data": {
            "text/plain": [
              "__main__.pwskills4"
            ]
          },
          "execution_count": 48,
          "metadata": {},
          "output_type": "execute_result"
        }
      ],
      "source": [
        "pwskills4"
      ]
    },
    {
      "cell_type": "code",
      "execution_count": null,
      "id": "082b768c-c7f9-494b-82cf-f2ea8c0ead1c",
      "metadata": {
        "id": "082b768c-c7f9-494b-82cf-f2ea8c0ead1c"
      },
      "outputs": [],
      "source": []
    }
  ],
  "metadata": {
    "kernelspec": {
      "display_name": "Python 3 (ipykernel)",
      "language": "python",
      "name": "python3"
    },
    "language_info": {
      "codemirror_mode": {
        "name": "ipython",
        "version": 3
      },
      "file_extension": ".py",
      "mimetype": "text/x-python",
      "name": "python",
      "nbconvert_exporter": "python",
      "pygments_lexer": "ipython3",
      "version": "3.10.8"
    },
    "colab": {
      "provenance": [],
      "include_colab_link": true
    }
  },
  "nbformat": 4,
  "nbformat_minor": 5
}