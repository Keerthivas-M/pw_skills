{
  "cells": [
    {
      "cell_type": "markdown",
      "metadata": {
        "id": "view-in-github",
        "colab_type": "text"
      },
      "source": [
        "<a href=\"https://colab.research.google.com/github/Keerthivas-M/pw_skills/blob/main/resources/List_Of_General_Use_Exceptions_Eng.ipynb\" target=\"_parent\"><img src=\"https://colab.research.google.com/assets/colab-badge.svg\" alt=\"Open In Colab\"/></a>"
      ]
    },
    {
      "cell_type": "code",
      "execution_count": null,
      "id": "1b8b2bb2-b0ba-4819-8954-298023af205a",
      "metadata": {
        "id": "1b8b2bb2-b0ba-4819-8954-298023af205a",
        "outputId": "4e119da7-bed0-4f5c-b1bc-5895280986c3"
      },
      "outputs": [
        {
          "name": "stdout",
          "output_type": "stream",
          "text": [
            "division by zero\n"
          ]
        }
      ],
      "source": [
        "try :\n",
        "    a = 10 \n",
        "    10/0\n",
        "except ZeroDivisionError as e :\n",
        "    print(e)"
      ]
    },
    {
      "cell_type": "code",
      "execution_count": null,
      "id": "410cf6a0-0e96-4373-a394-646dcd27073e",
      "metadata": {
        "id": "410cf6a0-0e96-4373-a394-646dcd27073e",
        "outputId": "43ef4ec4-a266-40b2-fcda-df2dca25adc6"
      },
      "outputs": [
        {
          "name": "stdout",
          "output_type": "stream",
          "text": [
            "invalid literal for int() with base 10: 'sudh'\n"
          ]
        }
      ],
      "source": [
        "try :\n",
        "    int(\"sudh\")\n",
        "except (ValueError , TypeError) as e :\n",
        "    print(e)"
      ]
    },
    {
      "cell_type": "code",
      "execution_count": null,
      "id": "d89ce21c-1359-4d81-b658-ef05cb8d0d76",
      "metadata": {
        "id": "d89ce21c-1359-4d81-b658-ef05cb8d0d76",
        "outputId": "98061966-73a4-4381-dc89-ac00f21ae09a"
      },
      "outputs": [
        {
          "name": "stdout",
          "output_type": "stream",
          "text": [
            "this will catch an error\n"
          ]
        }
      ],
      "source": [
        "try :\n",
        "    int(\"sudh\")\n",
        "except  :\n",
        "    print(\"this will catch an error\")"
      ]
    },
    {
      "cell_type": "code",
      "execution_count": null,
      "id": "0da78852-20e5-483f-b405-5e3376709e5a",
      "metadata": {
        "id": "0da78852-20e5-483f-b405-5e3376709e5a",
        "outputId": "e1d1fbd4-2721-4596-a8cc-38e702e564e7"
      },
      "outputs": [
        {
          "name": "stdout",
          "output_type": "stream",
          "text": [
            "No module named 'sudh'\n"
          ]
        }
      ],
      "source": [
        "try :\n",
        "    import sudh\n",
        "except ImportError as e : \n",
        "    print(e)"
      ]
    },
    {
      "cell_type": "code",
      "execution_count": null,
      "id": "74611d50-e614-4c52-bc83-b820962e6a5f",
      "metadata": {
        "id": "74611d50-e614-4c52-bc83-b820962e6a5f",
        "outputId": "80786cd1-8b4a-468d-c995-57851c6f3617"
      },
      "outputs": [
        {
          "name": "stdout",
          "output_type": "stream",
          "text": [
            "'key10'\n"
          ]
        }
      ],
      "source": [
        "try :\n",
        "    d = {1: [3,4,5,6] , \"key\" :\"sudh\"}\n",
        "    d[\"key10\"]\n",
        "except KeyError as e : \n",
        "    print(e)"
      ]
    },
    {
      "cell_type": "code",
      "execution_count": null,
      "id": "ad958645-08fa-4e38-a7d0-b565f8bd8ca8",
      "metadata": {
        "id": "ad958645-08fa-4e38-a7d0-b565f8bd8ca8",
        "outputId": "e923793a-3e45-41b7-c315-d28d96da246a"
      },
      "outputs": [
        {
          "name": "stdout",
          "output_type": "stream",
          "text": [
            "'str' object has no attribute 'test'\n"
          ]
        }
      ],
      "source": [
        "try :\n",
        "    \"sudh\".test()\n",
        "except AttributeError as e :\n",
        "    print(e)"
      ]
    },
    {
      "cell_type": "code",
      "execution_count": null,
      "id": "8729ec59-a4b8-47fd-a9cb-3b99d6b39ae4",
      "metadata": {
        "id": "8729ec59-a4b8-47fd-a9cb-3b99d6b39ae4",
        "outputId": "5ece63df-1098-4be7-a124-21f4ea6de766"
      },
      "outputs": [
        {
          "name": "stdout",
          "output_type": "stream",
          "text": [
            "list index out of range\n"
          ]
        }
      ],
      "source": [
        "try :\n",
        "    l = [1,2,3,3]\n",
        "    l[10]\n",
        "except IndexError as e :\n",
        "    print(e)"
      ]
    },
    {
      "cell_type": "code",
      "execution_count": null,
      "id": "447f2839-496e-469b-811d-c19c67f45b3d",
      "metadata": {
        "id": "447f2839-496e-469b-811d-c19c67f45b3d",
        "outputId": "16f147f4-2028-4524-b7bd-cd283493e23a"
      },
      "outputs": [
        {
          "name": "stdout",
          "output_type": "stream",
          "text": [
            "unsupported operand type(s) for +: 'int' and 'str'\n"
          ]
        }
      ],
      "source": [
        "try :\n",
        "    123 + \"sudh\"\n",
        "except TypeError as e :\n",
        "    print(e)"
      ]
    },
    {
      "cell_type": "code",
      "execution_count": null,
      "id": "70acc3f4-eca3-4eb1-bd58-44bd92e6761a",
      "metadata": {
        "id": "70acc3f4-eca3-4eb1-bd58-44bd92e6761a",
        "outputId": "99061241-377d-4ef0-8740-6f0bee75a322"
      },
      "outputs": [
        {
          "name": "stdout",
          "output_type": "stream",
          "text": [
            "[Errno 2] No such file or directory: 'test.txt'\n"
          ]
        }
      ],
      "source": [
        "try :\n",
        "    with open(\"test.txt\" , 'r') as f :\n",
        "        f.read()\n",
        "except FileNotFoundError as e :\n",
        "    print(e)"
      ]
    },
    {
      "cell_type": "code",
      "execution_count": null,
      "id": "86a18afb-77b7-4d48-8f80-f820bd59140f",
      "metadata": {
        "id": "86a18afb-77b7-4d48-8f80-f820bd59140f",
        "outputId": "24bd1b37-b475-404f-8d89-7d1f11304435"
      },
      "outputs": [
        {
          "name": "stdout",
          "output_type": "stream",
          "text": [
            "test  [Errno 2] No such file or directory: 'test.txt'\n"
          ]
        }
      ],
      "source": [
        "try :\n",
        "    with open(\"test.txt\" , 'r') as f :\n",
        "        f.read()\n",
        "except Exception as e :\n",
        "    print(\"test \" , e)\n",
        "except FileNotFoundError as e :\n",
        "    print(\"this is my file not found type error \" , e)"
      ]
    },
    {
      "cell_type": "code",
      "execution_count": null,
      "id": "2cd678b4-2d6d-46fd-97e9-c9f04cf4ef1e",
      "metadata": {
        "id": "2cd678b4-2d6d-46fd-97e9-c9f04cf4ef1e"
      },
      "outputs": [],
      "source": [
        "def test(file):\n",
        "    try :\n",
        "        with open(file, 'r') as f :\n",
        "            f.read()\n",
        "    except Exception as e :\n",
        "        print(\"test \" , e)\n",
        "    except FileNotFoundError as e :\n",
        "        print(\"this is my file not found type error \" , e)"
      ]
    },
    {
      "cell_type": "code",
      "execution_count": null,
      "id": "8a12733a-234f-4833-bf5d-db5fb505d6a2",
      "metadata": {
        "id": "8a12733a-234f-4833-bf5d-db5fb505d6a2"
      },
      "outputs": [],
      "source": []
    }
  ],
  "metadata": {
    "kernelspec": {
      "display_name": "Python 3 (ipykernel)",
      "language": "python",
      "name": "python3"
    },
    "language_info": {
      "codemirror_mode": {
        "name": "ipython",
        "version": 3
      },
      "file_extension": ".py",
      "mimetype": "text/x-python",
      "name": "python",
      "nbconvert_exporter": "python",
      "pygments_lexer": "ipython3",
      "version": "3.10.8"
    },
    "colab": {
      "provenance": [],
      "include_colab_link": true
    }
  },
  "nbformat": 4,
  "nbformat_minor": 5
}