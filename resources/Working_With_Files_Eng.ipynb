{
  "cells": [
    {
      "cell_type": "markdown",
      "metadata": {
        "id": "view-in-github",
        "colab_type": "text"
      },
      "source": [
        "<a href=\"https://colab.research.google.com/github/Keerthivas-M/pw_skills/blob/main/resources/Working_With_Files_Eng.ipynb\" target=\"_parent\"><img src=\"https://colab.research.google.com/assets/colab-badge.svg\" alt=\"Open In Colab\"/></a>"
      ]
    },
    {
      "cell_type": "code",
      "execution_count": null,
      "id": "77c8f60f-1388-42f0-aa5c-cefa8d9b672f",
      "metadata": {
        "id": "77c8f60f-1388-42f0-aa5c-cefa8d9b672f"
      },
      "outputs": [],
      "source": [
        "f = open(\"test.txt\" ,'a' )"
      ]
    },
    {
      "cell_type": "code",
      "execution_count": null,
      "id": "496903ff-e2a6-4bb9-aea3-dabe6bd404e9",
      "metadata": {
        "id": "496903ff-e2a6-4bb9-aea3-dabe6bd404e9",
        "outputId": "30ce9376-d825-472c-f760-99fa799eebe4"
      },
      "outputs": [
        {
          "data": {
            "text/plain": [
              "'/home/jovyan/work'"
            ]
          },
          "execution_count": 12,
          "metadata": {},
          "output_type": "execute_result"
        }
      ],
      "source": [
        "pwd"
      ]
    },
    {
      "cell_type": "code",
      "execution_count": null,
      "id": "10a3db82-c2a4-48b5-bf83-2966b7089f8d",
      "metadata": {
        "id": "10a3db82-c2a4-48b5-bf83-2966b7089f8d",
        "outputId": "2362c986-dac7-4815-c7d9-93ce7fb21481"
      },
      "outputs": [
        {
          "name": "stdout",
          "output_type": "stream",
          "text": [
            " README.md   sample-code.ipynb   test.txt  'Working With Files Eng.ipynb'\n"
          ]
        }
      ],
      "source": [
        "ls"
      ]
    },
    {
      "cell_type": "code",
      "execution_count": null,
      "id": "f14bac35-b49d-41e4-a0ae-7c32c3990d1e",
      "metadata": {
        "id": "f14bac35-b49d-41e4-a0ae-7c32c3990d1e",
        "outputId": "e005350b-a7a1-40d5-f8ed-81d957191093"
      },
      "outputs": [
        {
          "data": {
            "text/plain": [
              "766"
            ]
          },
          "execution_count": 14,
          "metadata": {},
          "output_type": "execute_result"
        }
      ],
      "source": [
        "f.write(\"Data Science Masters course is highly curated and uniquely designed according to the latest industry standards. This program instills students the skills essential to knowledge discovery efforts to identify standard, novel, and truly differentiated solutions and decision-making, including skills in managing, querying, analyzing, visualizing, and extracting meaning from extremely large data sets. This trending program provides students with the statistical, mathematical and computational skills needed to meet the large-scale data science challenges of today's professional world. You will learn all the stack required to work in data science industry including cloud infrastructure and real-time industry projects. This course will be taught in Hindi language. \")"
      ]
    },
    {
      "cell_type": "code",
      "execution_count": null,
      "id": "44fcb047-01c4-4ecf-807d-46aad046d961",
      "metadata": {
        "id": "44fcb047-01c4-4ecf-807d-46aad046d961"
      },
      "outputs": [],
      "source": [
        "f.close()"
      ]
    },
    {
      "cell_type": "code",
      "execution_count": null,
      "id": "b55dcd77-db2c-41e1-b2ac-f8056caaa200",
      "metadata": {
        "id": "b55dcd77-db2c-41e1-b2ac-f8056caaa200"
      },
      "outputs": [],
      "source": [
        "data = open(\"test.txt\" , \"r\")"
      ]
    },
    {
      "cell_type": "code",
      "execution_count": null,
      "id": "ae95ff09-f0b9-4af4-bfb0-d3739c7c8734",
      "metadata": {
        "id": "ae95ff09-f0b9-4af4-bfb0-d3739c7c8734",
        "outputId": "8ae34e4c-8ee8-4562-f134-a2b57b6bb44c"
      },
      "outputs": [
        {
          "data": {
            "text/plain": [
              "\"Data Science Masters course is highly curated and uniquely designed according to the latest industry standards. This program instills students the skills essential to knowledge discovery efforts to identify standard, novel, and truly differentiated solutions and decision-making, including skills in managing, querying, analyzing, visualizing, and extracting meaning from extremely large data sets. This trending program provides students with the statistical, mathematical and computational skills needed to meet the large-scale data science challenges of today's professional world. You will learn all the stack required to work in data science industry including cloud infrastructure and real-time industry projects. This course will be taught in Hindi language. Data Science Masters course is highly curated and uniquely designed according to the latest industry standards. This program instills students the skills essential to knowledge discovery efforts to identify standard, novel, and truly differentiated solutions and decision-making, including skills in managing, querying, analyzing, visualizing, and extracting meaning from extremely large data sets. This trending program provides students with the statistical, mathematical and computational skills needed to meet the large-scale data science challenges of today's professional world. You will learn all the stack required to work in data science industry including cloud infrastructure and real-time industry projects. This course will be taught in Hindi language. \""
            ]
          },
          "execution_count": 17,
          "metadata": {},
          "output_type": "execute_result"
        }
      ],
      "source": [
        "data.read()"
      ]
    },
    {
      "cell_type": "code",
      "execution_count": null,
      "id": "aeac618c-0440-4756-a229-cf25c764c242",
      "metadata": {
        "id": "aeac618c-0440-4756-a229-cf25c764c242",
        "outputId": "d80ed963-895f-45ec-b9a3-755c34c41c7b"
      },
      "outputs": [
        {
          "data": {
            "text/plain": [
              "''"
            ]
          },
          "execution_count": 18,
          "metadata": {},
          "output_type": "execute_result"
        }
      ],
      "source": [
        "data.read()"
      ]
    },
    {
      "cell_type": "code",
      "execution_count": null,
      "id": "727fc5b2-edcb-4642-b7c9-7da54683efb3",
      "metadata": {
        "id": "727fc5b2-edcb-4642-b7c9-7da54683efb3",
        "outputId": "777d15e5-9aad-44a5-f5ee-8635a081b5ba"
      },
      "outputs": [
        {
          "data": {
            "text/plain": [
              "0"
            ]
          },
          "execution_count": 19,
          "metadata": {},
          "output_type": "execute_result"
        }
      ],
      "source": [
        "data.seek(0)"
      ]
    },
    {
      "cell_type": "code",
      "execution_count": null,
      "id": "8ed00bfc-b9ce-44a7-b8b6-051c966665ae",
      "metadata": {
        "id": "8ed00bfc-b9ce-44a7-b8b6-051c966665ae",
        "outputId": "575953b4-d5b1-446c-dccc-df1b423fbf9c"
      },
      "outputs": [
        {
          "data": {
            "text/plain": [
              "\"Data Science Masters course is highly curated and uniquely designed according to the latest industry standards. This program instills students the skills essential to knowledge discovery efforts to identify standard, novel, and truly differentiated solutions and decision-making, including skills in managing, querying, analyzing, visualizing, and extracting meaning from extremely large data sets. This trending program provides students with the statistical, mathematical and computational skills needed to meet the large-scale data science challenges of today's professional world. You will learn all the stack required to work in data science industry including cloud infrastructure and real-time industry projects. This course will be taught in Hindi language. Data Science Masters course is highly curated and uniquely designed according to the latest industry standards. This program instills students the skills essential to knowledge discovery efforts to identify standard, novel, and truly differentiated solutions and decision-making, including skills in managing, querying, analyzing, visualizing, and extracting meaning from extremely large data sets. This trending program provides students with the statistical, mathematical and computational skills needed to meet the large-scale data science challenges of today's professional world. You will learn all the stack required to work in data science industry including cloud infrastructure and real-time industry projects. This course will be taught in Hindi language. \""
            ]
          },
          "execution_count": 20,
          "metadata": {},
          "output_type": "execute_result"
        }
      ],
      "source": [
        "data.read()"
      ]
    },
    {
      "cell_type": "code",
      "execution_count": null,
      "id": "fa2a0c56-4789-4da5-907e-7cf7c7c5b12c",
      "metadata": {
        "id": "fa2a0c56-4789-4da5-907e-7cf7c7c5b12c",
        "outputId": "d6113090-7cb8-4947-ca78-c3e3f127d60e"
      },
      "outputs": [
        {
          "data": {
            "text/plain": [
              "''"
            ]
          },
          "execution_count": 21,
          "metadata": {},
          "output_type": "execute_result"
        }
      ],
      "source": [
        "data.read()"
      ]
    },
    {
      "cell_type": "code",
      "execution_count": null,
      "id": "ae4863c0-ae5a-4f7f-be50-57f7c398f47e",
      "metadata": {
        "id": "ae4863c0-ae5a-4f7f-be50-57f7c398f47e",
        "outputId": "60354bac-bb3a-449e-ab3d-0ab41df7652f"
      },
      "outputs": [
        {
          "data": {
            "text/plain": [
              "100"
            ]
          },
          "execution_count": 22,
          "metadata": {},
          "output_type": "execute_result"
        }
      ],
      "source": [
        "data.seek(100)"
      ]
    },
    {
      "cell_type": "code",
      "execution_count": null,
      "id": "60d0634b-7dfe-4b3d-9ae6-1bb00ec54c63",
      "metadata": {
        "id": "60d0634b-7dfe-4b3d-9ae6-1bb00ec54c63",
        "outputId": "799ab782-c3c9-45df-8606-bb392cab3786"
      },
      "outputs": [
        {
          "data": {
            "text/plain": [
              "\" standards. This program instills students the skills essential to knowledge discovery efforts to identify standard, novel, and truly differentiated solutions and decision-making, including skills in managing, querying, analyzing, visualizing, and extracting meaning from extremely large data sets. This trending program provides students with the statistical, mathematical and computational skills needed to meet the large-scale data science challenges of today's professional world. You will learn all the stack required to work in data science industry including cloud infrastructure and real-time industry projects. This course will be taught in Hindi language. Data Science Masters course is highly curated and uniquely designed according to the latest industry standards. This program instills students the skills essential to knowledge discovery efforts to identify standard, novel, and truly differentiated solutions and decision-making, including skills in managing, querying, analyzing, visualizing, and extracting meaning from extremely large data sets. This trending program provides students with the statistical, mathematical and computational skills needed to meet the large-scale data science challenges of today's professional world. You will learn all the stack required to work in data science industry including cloud infrastructure and real-time industry projects. This course will be taught in Hindi language. \""
            ]
          },
          "execution_count": 23,
          "metadata": {},
          "output_type": "execute_result"
        }
      ],
      "source": [
        "data.read()"
      ]
    },
    {
      "cell_type": "code",
      "execution_count": null,
      "id": "6b418337-d28f-42d5-90b4-5196c00ac59f",
      "metadata": {
        "id": "6b418337-d28f-42d5-90b4-5196c00ac59f"
      },
      "outputs": [],
      "source": [
        "data1 = open(\"test.txt\", 'r')"
      ]
    },
    {
      "cell_type": "code",
      "execution_count": null,
      "id": "eeeccb52-b827-4b21-a489-ae2977fb165b",
      "metadata": {
        "id": "eeeccb52-b827-4b21-a489-ae2977fb165b",
        "outputId": "0674853b-4395-44c2-dd59-83a61edf3cd2"
      },
      "outputs": [
        {
          "name": "stdout",
          "output_type": "stream",
          "text": [
            "Data Science Masters course is highly curated and uniquely designed according to the latest industry standards. This program instills students the skills essential to knowledge discovery efforts to identify standard, novel, and truly differentiated solutions and decision-making, including skills in managing, querying, analyzing, visualizing, and extracting meaning from extremely large data sets. This trending program provides students with the statistical, mathematical and computational skills needed to meet the large-scale data science challenges of today's professional world. You will learn all the stack required to work in data science industry including cloud infrastructure and real-time industry projects. This course will be taught in Hindi language. Data Science Masters course is highly curated and uniquely designed according to the latest industry standards. This program instills students the skills essential to knowledge discovery efforts to identify standard, novel, and truly differentiated solutions and decision-making, including skills in managing, querying, analyzing, visualizing, and extracting meaning from extremely large data sets. This trending program provides students with the statistical, mathematical and computational skills needed to meet the large-scale data science challenges of today's professional world. You will learn all the stack required to work in data science industry including cloud infrastructure and real-time industry projects. This course will be taught in Hindi language. \n"
          ]
        }
      ],
      "source": [
        "for i in data1:\n",
        "    print(i)"
      ]
    },
    {
      "cell_type": "code",
      "execution_count": null,
      "id": "274f353e-dcf4-469d-a89c-a109486ac984",
      "metadata": {
        "id": "274f353e-dcf4-469d-a89c-a109486ac984"
      },
      "outputs": [],
      "source": [
        "import os "
      ]
    },
    {
      "cell_type": "code",
      "execution_count": null,
      "id": "59ce381e-6453-4f80-93f1-a4ea703ebe2b",
      "metadata": {
        "id": "59ce381e-6453-4f80-93f1-a4ea703ebe2b",
        "outputId": "a8d5a016-56c1-47e8-a4e5-1df9e0a53322"
      },
      "outputs": [
        {
          "data": {
            "text/plain": [
              "1532"
            ]
          },
          "execution_count": 27,
          "metadata": {},
          "output_type": "execute_result"
        }
      ],
      "source": [
        "os.path.getsize(\"test.txt\")"
      ]
    },
    {
      "cell_type": "code",
      "execution_count": null,
      "id": "15a3284a-65ab-40d0-855d-e4bef7b38c4b",
      "metadata": {
        "id": "15a3284a-65ab-40d0-855d-e4bef7b38c4b"
      },
      "outputs": [],
      "source": [
        "import shutil"
      ]
    },
    {
      "cell_type": "code",
      "execution_count": null,
      "id": "819e169d-cc10-4013-ab18-83d590739e33",
      "metadata": {
        "id": "819e169d-cc10-4013-ab18-83d590739e33",
        "outputId": "f71129af-9608-4148-9aa3-04cb875e884d"
      },
      "outputs": [
        {
          "data": {
            "text/plain": [
              "'new_test.txt'"
            ]
          },
          "execution_count": 29,
          "metadata": {},
          "output_type": "execute_result"
        }
      ],
      "source": [
        "shutil.copy(\"test.txt\" , \"new_test.txt\")"
      ]
    },
    {
      "cell_type": "code",
      "execution_count": null,
      "id": "2c1ea049-c614-4756-b108-b2ca29c387ac",
      "metadata": {
        "id": "2c1ea049-c614-4756-b108-b2ca29c387ac"
      },
      "outputs": [],
      "source": [
        "os.remove(\"test.txt\")"
      ]
    },
    {
      "cell_type": "code",
      "execution_count": null,
      "id": "c149a227-1e90-432d-979a-3c5216c9b559",
      "metadata": {
        "id": "c149a227-1e90-432d-979a-3c5216c9b559"
      },
      "outputs": [],
      "source": [
        "with open(\"new_test.txt\" , \"r\") as f :\n",
        "    print()"
      ]
    }
  ],
  "metadata": {
    "kernelspec": {
      "display_name": "Python 3 (ipykernel)",
      "language": "python",
      "name": "python3"
    },
    "language_info": {
      "codemirror_mode": {
        "name": "ipython",
        "version": 3
      },
      "file_extension": ".py",
      "mimetype": "text/x-python",
      "name": "python",
      "nbconvert_exporter": "python",
      "pygments_lexer": "ipython3",
      "version": "3.10.8"
    },
    "colab": {
      "provenance": [],
      "include_colab_link": true
    }
  },
  "nbformat": 4,
  "nbformat_minor": 5
}