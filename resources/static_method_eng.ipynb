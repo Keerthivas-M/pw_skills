{
  "cells": [
    {
      "cell_type": "markdown",
      "metadata": {
        "id": "view-in-github",
        "colab_type": "text"
      },
      "source": [
        "<a href=\"https://colab.research.google.com/github/Keerthivas-M/pw_skills/blob/main/resources/static_method_eng.ipynb\" target=\"_parent\"><img src=\"https://colab.research.google.com/assets/colab-badge.svg\" alt=\"Open In Colab\"/></a>"
      ]
    },
    {
      "cell_type": "code",
      "execution_count": null,
      "id": "73250e39-b555-4022-a1d3-5da9ca7d53bb",
      "metadata": {
        "id": "73250e39-b555-4022-a1d3-5da9ca7d53bb"
      },
      "outputs": [],
      "source": [
        "class pwskills:\n",
        "    def student_details(self , name , mail_id , number) : \n",
        "        print(name , mail_id, number)"
      ]
    },
    {
      "cell_type": "code",
      "execution_count": null,
      "id": "bf403f35-2dab-4e1b-863c-42488c20d405",
      "metadata": {
        "id": "bf403f35-2dab-4e1b-863c-42488c20d405"
      },
      "outputs": [],
      "source": [
        "pw = pwskills()"
      ]
    },
    {
      "cell_type": "code",
      "execution_count": null,
      "id": "bd805a04-6bfc-4159-8e66-94774d72f46b",
      "metadata": {
        "id": "bd805a04-6bfc-4159-8e66-94774d72f46b",
        "outputId": "bc0b7039-e04f-40ef-8149-e559e0c0f8ee"
      },
      "outputs": [
        {
          "name": "stdout",
          "output_type": "stream",
          "text": [
            "sudh sudh@gmail.com 91345353\n"
          ]
        }
      ],
      "source": [
        "pw.student_details(\"sudh\" , \"sudh@gmail.com\" , 91345353)"
      ]
    },
    {
      "cell_type": "code",
      "execution_count": null,
      "id": "7d866032-5c0e-4db2-9d58-1855164e5834",
      "metadata": {
        "id": "7d866032-5c0e-4db2-9d58-1855164e5834"
      },
      "outputs": [],
      "source": [
        "class pwskills1:\n",
        "    def student_details(self , name , mail_id , number) : \n",
        "        print(name , mail_id, number)\n",
        "        \n",
        "    @staticmethod\n",
        "    def mentor_class(list_mentor) : \n",
        "        print(list_mentor)\n",
        "        \n",
        "    def mentor(self , mentor_list) :\n",
        "        print(mentor_list)"
      ]
    },
    {
      "cell_type": "code",
      "execution_count": null,
      "id": "afc43311-50a8-4a95-8e66-22828d8dd3eb",
      "metadata": {
        "id": "afc43311-50a8-4a95-8e66-22828d8dd3eb"
      },
      "outputs": [],
      "source": [
        "pw1 = pwskills1()"
      ]
    },
    {
      "cell_type": "code",
      "execution_count": null,
      "id": "103dac56-44e3-4ced-867d-46f4f17adac4",
      "metadata": {
        "id": "103dac56-44e3-4ced-867d-46f4f17adac4",
        "outputId": "5f948478-d04f-4dc3-c516-97502814ace7"
      },
      "outputs": [
        {
          "name": "stdout",
          "output_type": "stream",
          "text": [
            "['krish', 'sudh']\n"
          ]
        }
      ],
      "source": [
        "pw1.mentor([\"krish\" , \"sudh\"])"
      ]
    },
    {
      "cell_type": "code",
      "execution_count": null,
      "id": "1f2085b9-0dba-40a0-bf18-9621289ffca0",
      "metadata": {
        "id": "1f2085b9-0dba-40a0-bf18-9621289ffca0",
        "outputId": "09a14298-f7cb-47be-a5f4-8dc75cf302e8"
      },
      "outputs": [
        {
          "name": "stdout",
          "output_type": "stream",
          "text": [
            "['sudh', 'naik']\n"
          ]
        }
      ],
      "source": [
        "pw1.mentor_class([\"sudh\" , \"naik\"])"
      ]
    },
    {
      "cell_type": "code",
      "execution_count": null,
      "id": "10d5501a-4460-4f4b-b391-f2fb0dfa032b",
      "metadata": {
        "id": "10d5501a-4460-4f4b-b391-f2fb0dfa032b",
        "outputId": "68c1b944-0d34-4d85-dfe0-11db2222e3bb"
      },
      "outputs": [
        {
          "name": "stdout",
          "output_type": "stream",
          "text": [
            "['sudh', 'kris']\n"
          ]
        }
      ],
      "source": [
        "pwskills1.mentor_class([\"sudh\" , \"kris\"])"
      ]
    },
    {
      "cell_type": "code",
      "execution_count": null,
      "id": "444133f4-1160-45e5-81d0-13fea6b91279",
      "metadata": {
        "id": "444133f4-1160-45e5-81d0-13fea6b91279"
      },
      "outputs": [],
      "source": [
        "class pwskills1:\n",
        "    def student_details(self , name , mail_id , number) : \n",
        "        print(name , mail_id, number)\n",
        "        \n",
        "    @staticmethod\n",
        "    def mentor_mail_id(mail_id):\n",
        "        print(mail_id)\n",
        "        \n",
        "    @staticmethod\n",
        "    def mentor_class(list_mentor) : \n",
        "        print(list_mentor)\n",
        "        pwskills1.mentor_mail_id([\"krish@gmail.com\" , \"sudh@gmail.com\"])\n",
        "        \n",
        "    @classmethod\n",
        "    def class_name(cls,class_name):\n",
        "        cls.mentor_class([\"sudh\" , \"krish\"])\n",
        "        \n",
        "    def mentor(self , mentor_list) :\n",
        "        print(mentor_list)\n",
        "        self.mentor_class([\"krish\" , \"sudh\"])"
      ]
    },
    {
      "cell_type": "code",
      "execution_count": null,
      "id": "de2ef83d-6a58-42dd-8692-63634e377e37",
      "metadata": {
        "id": "de2ef83d-6a58-42dd-8692-63634e377e37"
      },
      "outputs": [],
      "source": [
        "pw1 = pwskills1()"
      ]
    },
    {
      "cell_type": "code",
      "execution_count": null,
      "id": "2f84a6fa-726d-4395-9c1d-d743e6cb7274",
      "metadata": {
        "id": "2f84a6fa-726d-4395-9c1d-d743e6cb7274",
        "outputId": "60a7c36e-2d72-4772-e63b-8144809d73a3"
      },
      "outputs": [
        {
          "name": "stdout",
          "output_type": "stream",
          "text": [
            "mohan mohan@gmail.com 9675657657\n"
          ]
        }
      ],
      "source": [
        "pw1.student_details(\"mohan\" , \"mohan@gmail.com\" , 9675657657)"
      ]
    },
    {
      "cell_type": "code",
      "execution_count": null,
      "id": "e21b63cc-fbd1-4147-b184-347bc17a97e9",
      "metadata": {
        "id": "e21b63cc-fbd1-4147-b184-347bc17a97e9",
        "outputId": "2ff32767-1884-4518-fc02-5425a239750d"
      },
      "outputs": [
        {
          "name": "stdout",
          "output_type": "stream",
          "text": [
            "['krish@gmail.com', 'sudh@gmail.com']\n"
          ]
        }
      ],
      "source": [
        "pw1.mentor_mail_id([\"krish@gmail.com\" , \"sudh@gmail.com\"])"
      ]
    },
    {
      "cell_type": "code",
      "execution_count": null,
      "id": "b964530b-d86e-4dd5-a239-ac2dcd58d750",
      "metadata": {
        "id": "b964530b-d86e-4dd5-a239-ac2dcd58d750",
        "outputId": "b037c55b-5d20-479d-e5bc-ef27de8dbafb"
      },
      "outputs": [
        {
          "name": "stdout",
          "output_type": "stream",
          "text": [
            "['sudh', 'krish']\n",
            "['krish@gmail.com', 'sudh@gmail.com']\n"
          ]
        }
      ],
      "source": [
        "pw1.class_name(\"data science masters\")"
      ]
    },
    {
      "cell_type": "code",
      "execution_count": null,
      "id": "d2edacf3-91cb-44de-a8b6-b802e6e1442b",
      "metadata": {
        "id": "d2edacf3-91cb-44de-a8b6-b802e6e1442b",
        "outputId": "a7ee8d7c-5b58-46ef-859b-bac39083a11e"
      },
      "outputs": [
        {
          "name": "stdout",
          "output_type": "stream",
          "text": [
            "['krish@gmail.com', 'sudh@gmail.com']\n"
          ]
        }
      ],
      "source": [
        "pwskills1.mentor_mail_id([\"krish@gmail.com\" , \"sudh@gmail.com\"])"
      ]
    },
    {
      "cell_type": "code",
      "execution_count": null,
      "id": "6a9a4622-8602-4ff9-bf89-c9ebbbb37a8b",
      "metadata": {
        "id": "6a9a4622-8602-4ff9-bf89-c9ebbbb37a8b"
      },
      "outputs": [],
      "source": []
    }
  ],
  "metadata": {
    "kernelspec": {
      "display_name": "Python 3 (ipykernel)",
      "language": "python",
      "name": "python3"
    },
    "language_info": {
      "codemirror_mode": {
        "name": "ipython",
        "version": 3
      },
      "file_extension": ".py",
      "mimetype": "text/x-python",
      "name": "python",
      "nbconvert_exporter": "python",
      "pygments_lexer": "ipython3",
      "version": "3.10.8"
    },
    "colab": {
      "provenance": [],
      "include_colab_link": true
    }
  },
  "nbformat": 4,
  "nbformat_minor": 5
}