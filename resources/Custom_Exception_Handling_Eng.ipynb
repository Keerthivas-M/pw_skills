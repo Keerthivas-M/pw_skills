{
  "cells": [
    {
      "cell_type": "markdown",
      "metadata": {
        "id": "view-in-github",
        "colab_type": "text"
      },
      "source": [
        "<a href=\"https://colab.research.google.com/github/Keerthivas-M/pw_skills/blob/main/resources/Custom_Exception_Handling_Eng.ipynb\" target=\"_parent\"><img src=\"https://colab.research.google.com/assets/colab-badge.svg\" alt=\"Open In Colab\"/></a>"
      ]
    },
    {
      "cell_type": "code",
      "execution_count": null,
      "id": "2406b489-44d2-40d8-8d07-edd5dfd582d7",
      "metadata": {
        "id": "2406b489-44d2-40d8-8d07-edd5dfd582d7",
        "outputId": "42d97769-da84-4b3f-f456-6302922c4c40"
      },
      "outputs": [
        {
          "name": "stdin",
          "output_type": "stream",
          "text": [
            "enter your age -2234\n"
          ]
        }
      ],
      "source": [
        "age = int(input(\"enter your age\"))"
      ]
    },
    {
      "cell_type": "code",
      "execution_count": null,
      "id": "8e9f04b6-e5c0-40cd-b56f-a6902f96bdb2",
      "metadata": {
        "id": "8e9f04b6-e5c0-40cd-b56f-a6902f96bdb2"
      },
      "outputs": [],
      "source": [
        "class validateage(Exception) : \n",
        "    def __init__(self, msg) :\n",
        "        self.msg = msg"
      ]
    },
    {
      "cell_type": "code",
      "execution_count": null,
      "id": "626a46fd-78ca-4429-8ef9-8b0f3ecc2b6c",
      "metadata": {
        "id": "626a46fd-78ca-4429-8ef9-8b0f3ecc2b6c"
      },
      "outputs": [],
      "source": [
        "def validate_age(age) : \n",
        "    if age < 0 : \n",
        "        raise validateage(\"age should not be lesser then zeor \" )\n",
        "    elif age > 200 : \n",
        "        raise validateage(\"age is too high \" )\n",
        "        \n",
        "    else :\n",
        "        print(\"age is valid\" )"
      ]
    },
    {
      "cell_type": "code",
      "execution_count": null,
      "id": "41c3de0d-2bbf-4f2d-a9fe-f57b1ffbe2a4",
      "metadata": {
        "id": "41c3de0d-2bbf-4f2d-a9fe-f57b1ffbe2a4",
        "outputId": "0143ef2b-114d-467e-db7a-d32dcbe46428"
      },
      "outputs": [
        {
          "name": "stdin",
          "output_type": "stream",
          "text": [
            "enter your age 234322\n"
          ]
        },
        {
          "name": "stdout",
          "output_type": "stream",
          "text": [
            "age is too high \n"
          ]
        }
      ],
      "source": [
        "try : \n",
        "    age = int(input(\"enter your age\"))\n",
        "    validate_age(age)\n",
        "except validateage as e : \n",
        "    print(e)"
      ]
    },
    {
      "cell_type": "code",
      "execution_count": null,
      "id": "d1903210-686b-4213-8632-37bc83a721bb",
      "metadata": {
        "id": "d1903210-686b-4213-8632-37bc83a721bb"
      },
      "outputs": [],
      "source": []
    }
  ],
  "metadata": {
    "kernelspec": {
      "display_name": "Python 3 (ipykernel)",
      "language": "python",
      "name": "python3"
    },
    "language_info": {
      "codemirror_mode": {
        "name": "ipython",
        "version": 3
      },
      "file_extension": ".py",
      "mimetype": "text/x-python",
      "name": "python",
      "nbconvert_exporter": "python",
      "pygments_lexer": "ipython3",
      "version": "3.10.8"
    },
    "colab": {
      "provenance": [],
      "include_colab_link": true
    }
  },
  "nbformat": 4,
  "nbformat_minor": 5
}