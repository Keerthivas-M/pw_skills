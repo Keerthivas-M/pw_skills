{
  "nbformat": 4,
  "nbformat_minor": 0,
  "metadata": {
    "colab": {
      "provenance": [],
      "authorship_tag": "ABX9TyOpcF1kap4nkLeUpIXZb56i",
      "include_colab_link": true
    },
    "kernelspec": {
      "name": "python3",
      "display_name": "Python 3"
    },
    "language_info": {
      "name": "python"
    }
  },
  "cells": [
    {
      "cell_type": "markdown",
      "metadata": {
        "id": "view-in-github",
        "colab_type": "text"
      },
      "source": [
        "<a href=\"https://colab.research.google.com/github/Keerthivas-M/pw_skills/blob/main/10Feb_Files_Handle_assginment.ipynb\" target=\"_parent\"><img src=\"https://colab.research.google.com/assets/colab-badge.svg\" alt=\"Open In Colab\"/></a>"
      ]
    },
    {
      "cell_type": "markdown",
      "source": [
        "1. Which function is used to open a file? What are the different modes of opening a file? Explain each mode of file opening.\n",
        "\n",
        "  `open()` function is used to open a file. The different modes of opening files are\n",
        "\n",
        "- `r` - Open a file for reading. It is a default mode.\n",
        "- `w` - Open a file for writing. Creates a new file if it does not exist or truncates the file if it exists.\n",
        "- `x` - Open a file for exclusive creation. If the file already exists, the operation fails.\n",
        "- `a` - Open a file for appending at the end of the file without truncating it. Creates a new file if it does not exist.\n",
        "- `t` - Open in text mode. (default)\n",
        "- `b` - Open in binary mode.\n",
        "- `+` - Open a file for updating (reading and writing)."
      ],
      "metadata": {
        "id": "7cADR7nVONXO"
      }
    },
    {
      "cell_type": "markdown",
      "source": [
        "2. Why close() function is used? Why is it important to close a file?\n",
        "\n",
        "  `close()` function used to close the opened file. When we are done with performing operations on the file, we need to properly close the file. Closing a file will free up the resources that were tied with the file. Also only when the file is closed, file will get update. It is done using the close() method in Python."
      ],
      "metadata": {
        "id": "Lhb684lfPs7c"
      }
    },
    {
      "cell_type": "markdown",
      "source": [
        "3. Write a python program to create a text file. Write ‘I want to become a Data Scientist’ in that file. Then\n",
        "close the file. Open this file and read the content of the file."
      ],
      "metadata": {
        "id": "9QIpcScSQZrP"
      }
    },
    {
      "cell_type": "code",
      "execution_count": 8,
      "metadata": {
        "id": "mwKlNdB4N-V9"
      },
      "outputs": [],
      "source": [
        "f = open('new_text.txt', 'w')"
      ]
    },
    {
      "cell_type": "code",
      "source": [
        "f.write('I want to become a Data Scientist')\n",
        "f.close()"
      ],
      "metadata": {
        "id": "jXV3Pd3sRHHZ"
      },
      "execution_count": 9,
      "outputs": []
    },
    {
      "cell_type": "code",
      "source": [
        "data = open('new_text.txt', 'r')\n",
        "data.read()"
      ],
      "metadata": {
        "colab": {
          "base_uri": "https://localhost:8080/",
          "height": 35
        },
        "id": "PCoLQb8fRvyj",
        "outputId": "0718a65c-7da1-430c-feab-a1f9fea110bd"
      },
      "execution_count": 11,
      "outputs": [
        {
          "output_type": "execute_result",
          "data": {
            "text/plain": [
              "'I want to become a Data Scientist'"
            ],
            "application/vnd.google.colaboratory.intrinsic+json": {
              "type": "string"
            }
          },
          "metadata": {},
          "execution_count": 11
        }
      ]
    },
    {
      "cell_type": "markdown",
      "source": [
        "4. Explain the following with python code: read(), readline() and readlines().\n",
        "\n",
        "- `read(n)` - Reads at most n characters from the file. Reads till end of file if it is negative or None.\n",
        "- `readline()` - Reads and returns one line from the file. Reads in at most n bytes if specified.\n",
        "- `readlines()` - Reads and returns a list of lines from the file. Reads in at most n bytes/characters if specified."
      ],
      "metadata": {
        "id": "yQlSaT0XSKuk"
      }
    },
    {
      "cell_type": "markdown",
      "source": [
        "5. Explain why `with` statement is used with open(). What is the advantage of using with statement and\n",
        "open() together?\n",
        "\n",
        "- `with` statement is used with open() function is to automatically close the file. The advantange of this statement is to close file automatically so we dont need to worry about closing a file everytime."
      ],
      "metadata": {
        "id": "f3eQj9R-S_5P"
      }
    },
    {
      "cell_type": "markdown",
      "source": [
        "6. Explain the write() and writelines() functions. Give a suitable example.\n",
        "\n",
        "- `write()` - Writes anything given in argumnent to the file and returns the number of characters written.\n",
        "- `writelines()` - Writes list of lines to file."
      ],
      "metadata": {
        "id": "aB-CDXr7Ukkh"
      }
    }
  ]
}